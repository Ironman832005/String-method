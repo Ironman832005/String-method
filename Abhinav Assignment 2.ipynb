{
 "cells": [
  {
   "cell_type": "markdown",
   "id": "98b301c4-93a6-4ac9-842d-b2957c30010b",
   "metadata": {},
   "source": [
    "# str. capitalize()"
   ]
  },
  {
   "cell_type": "code",
   "execution_count": 10,
   "id": "3c9d8f22-c6fc-4585-8c39-6fb2a41d96f9",
   "metadata": {},
   "outputs": [
    {
     "name": "stdout",
     "output_type": "stream",
     "text": [
      "Python\n"
     ]
    }
   ],
   "source": [
    "string = \"pyThon\"\n",
    "print(string.capitalize())"
   ]
  },
  {
   "cell_type": "markdown",
   "id": "79706a0b-c2ad-4360-92b9-7db7fba9df13",
   "metadata": {},
   "source": [
    "# str. endswith()"
   ]
  },
  {
   "cell_type": "code",
   "execution_count": 22,
   "id": "44c40b7c-7673-4e1f-a449-e39b0355e988",
   "metadata": {},
   "outputs": [
    {
     "name": "stdout",
     "output_type": "stream",
     "text": [
      "True\n",
      "False\n"
     ]
    }
   ],
   "source": [
    "string = \"python\"\n",
    "print(string.endswith(\"n\"))\n",
    "print(string.endswith(\"l\"))"
   ]
  },
  {
   "cell_type": "markdown",
   "id": "55b58fa7-419f-4d9a-b826-d146c5e6e389",
   "metadata": {},
   "source": [
    "# str. startswith()"
   ]
  },
  {
   "cell_type": "code",
   "execution_count": 23,
   "id": "9a006fbe-4d70-42ce-b371-a7c857d65ab9",
   "metadata": {},
   "outputs": [
    {
     "name": "stdout",
     "output_type": "stream",
     "text": [
      "True\n",
      "False\n"
     ]
    }
   ],
   "source": [
    "string = \"python\"\n",
    "print(string.startswith(\"p\"))\n",
    "print(string.startswith(\"f\"))"
   ]
  },
  {
   "cell_type": "markdown",
   "id": "7eb44141-d7d9-4621-b750-2dea05f79910",
   "metadata": {},
   "source": [
    "# str. lower()"
   ]
  },
  {
   "cell_type": "code",
   "execution_count": 6,
   "id": "e6ed875c-e31d-4075-944a-a9ff1fcfdb24",
   "metadata": {},
   "outputs": [
    {
     "name": "stdout",
     "output_type": "stream",
     "text": [
      "python\n"
     ]
    }
   ],
   "source": [
    "string = \"PyThon\"\n",
    "print(string.lower())"
   ]
  },
  {
   "cell_type": "markdown",
   "id": "3e1dfca9-44c9-4f87-93a9-c540b90cafd3",
   "metadata": {},
   "source": [
    "# str. upper()"
   ]
  },
  {
   "cell_type": "code",
   "execution_count": 7,
   "id": "19d8c769-53de-4408-b539-7fb4c9aa6938",
   "metadata": {},
   "outputs": [
    {
     "name": "stdout",
     "output_type": "stream",
     "text": [
      "PYTHON\n"
     ]
    }
   ],
   "source": [
    "string = \"python\"\n",
    "print(string.upper())"
   ]
  },
  {
   "cell_type": "markdown",
   "id": "988c514d-d1d4-465a-a68d-e952cecbb11f",
   "metadata": {},
   "source": [
    "# str. isalpha()"
   ]
  },
  {
   "cell_type": "code",
   "execution_count": 26,
   "id": "8c67a27e-b2dc-4873-aff5-fdf92099117a",
   "metadata": {},
   "outputs": [
    {
     "name": "stdout",
     "output_type": "stream",
     "text": [
      "True\n",
      "False\n"
     ]
    }
   ],
   "source": [
    "string = \"python\"\n",
    "string2 = \"python123\"\n",
    "print(string.isalpha())\n",
    "print(string2.isalpha())"
   ]
  },
  {
   "cell_type": "markdown",
   "id": "7d68d5e8-3593-49d6-b517-0d384de64397",
   "metadata": {},
   "source": [
    "# str. isalnum()"
   ]
  },
  {
   "cell_type": "code",
   "execution_count": 44,
   "id": "07c7da63-bc41-4cde-bcfb-9ee8f8216657",
   "metadata": {},
   "outputs": [
    {
     "name": "stdout",
     "output_type": "stream",
     "text": [
      "True\n",
      "False\n"
     ]
    }
   ],
   "source": [
    "string = \"python123\"\n",
    "string2 = \"python 1234\"\n",
    "print(string.isalnum())\n",
    "print(string2.isalnum())"
   ]
  },
  {
   "cell_type": "markdown",
   "id": "e97397c9-9276-458d-8f15-5f331f3754fe",
   "metadata": {},
   "source": [
    "# str. islower()"
   ]
  },
  {
   "cell_type": "code",
   "execution_count": 28,
   "id": "cf72850a-d1ad-49f2-adac-c7373c3fb438",
   "metadata": {},
   "outputs": [
    {
     "name": "stdout",
     "output_type": "stream",
     "text": [
      "True\n",
      "False\n"
     ]
    }
   ],
   "source": [
    "string = \"pythom\"\n",
    "string2 = \"PYTHON\"\n",
    "print(string.islower())\n",
    "print(string2.islower())"
   ]
  },
  {
   "cell_type": "markdown",
   "id": "89924e52-1d27-4abc-81c4-058b863d0e4c",
   "metadata": {},
   "source": [
    "# str. isnumeric()"
   ]
  },
  {
   "cell_type": "code",
   "execution_count": 34,
   "id": "ce7e68bd-24a1-48ca-8649-a3a872fccfcd",
   "metadata": {},
   "outputs": [
    {
     "name": "stdout",
     "output_type": "stream",
     "text": [
      "True\n",
      "False\n"
     ]
    }
   ],
   "source": [
    "string = \"5863463\"\n",
    "string2 = \"889.899088\"\n",
    "print(string.isnumeric())\n",
    "print(string2.isnumeric())"
   ]
  },
  {
   "cell_type": "markdown",
   "id": "35ceadab-ab0a-41fb-a0cd-353dbbf912d1",
   "metadata": {},
   "source": [
    "# str. isdigit()"
   ]
  },
  {
   "cell_type": "code",
   "execution_count": 39,
   "id": "cc38881a-6da4-4e5b-b85f-59c23cc11057",
   "metadata": {},
   "outputs": [
    {
     "name": "stdout",
     "output_type": "stream",
     "text": [
      "True\n",
      "False\n"
     ]
    }
   ],
   "source": [
    "string = \"621744\"\n",
    "string2 = \"0495.95\"\n",
    "print(string.isdigit())\n",
    "print(string2.isdigit())"
   ]
  },
  {
   "cell_type": "markdown",
   "id": "b01e7e84-c9bc-431f-9e39-e472a29491b6",
   "metadata": {},
   "source": [
    "# str. swapcase()"
   ]
  },
  {
   "cell_type": "code",
   "execution_count": 41,
   "id": "ef1f75ab-f6b8-44fe-80c7-702608b323ce",
   "metadata": {},
   "outputs": [
    {
     "name": "stdout",
     "output_type": "stream",
     "text": [
      "PyThON\n"
     ]
    }
   ],
   "source": [
    "string = \"pYtHon\"\n",
    "print(string.swapcase())"
   ]
  },
  {
   "cell_type": "markdown",
   "id": "72ad7e83-eefb-4516-a73d-ce2f7dc3ffab",
   "metadata": {},
   "source": [
    "# str. zfill()"
   ]
  },
  {
   "cell_type": "code",
   "execution_count": 43,
   "id": "caf6f0c8-2b83-41b1-87b9-619d45d33487",
   "metadata": {},
   "outputs": [
    {
     "name": "stdout",
     "output_type": "stream",
     "text": [
      "00756\n",
      "000000756\n"
     ]
    }
   ],
   "source": [
    "string = \"756\"\n",
    "print(string.zfill(5))\n",
    "print(string.zfill(9))"
   ]
  },
  {
   "cell_type": "markdown",
   "id": "ee10dfa8-c6d4-4406-b27f-faf51b2d71e8",
   "metadata": {},
   "source": [
    "# str. split()"
   ]
  },
  {
   "cell_type": "code",
   "execution_count": 54,
   "id": "56ec94ff-ce89-4ac9-9064-cbfd97c8e03b",
   "metadata": {},
   "outputs": [
    {
     "name": "stdout",
     "output_type": "stream",
     "text": [
      "['tushar', '@gamil.com']\n"
     ]
    }
   ],
   "source": [
    "string = \"tushar @gamil.com\"\n",
    "print(string.split())"
   ]
  },
  {
   "cell_type": "markdown",
   "id": "abcdce13-22f4-456e-8b08-e91031b98bf6",
   "metadata": {},
   "source": [
    "# str. join method()"
   ]
  },
  {
   "cell_type": "code",
   "execution_count": 58,
   "id": "021a6e18-b0e0-4446-a510-eee511eb1cd8",
   "metadata": {},
   "outputs": [
    {
     "data": {
      "text/plain": [
       "'tushar@gmail.com'"
      ]
     },
     "execution_count": 58,
     "metadata": {},
     "output_type": "execute_result"
    }
   ],
   "source": [
    "string = [\"tushar\",\"@\",\"gmail\",\".com\"]\n",
    "\"\".join(string)"
   ]
  },
  {
   "cell_type": "markdown",
   "id": "25fba333-14ca-4840-a5fe-04e81754f060",
   "metadata": {},
   "source": [
    "# str. maketrans()"
   ]
  },
  {
   "cell_type": "code",
   "execution_count": 65,
   "id": "7d98c3d1-fd1d-404b-a14a-0e31b1f50bec",
   "metadata": {},
   "outputs": [
    {
     "name": "stdout",
     "output_type": "stream",
     "text": [
      "i am lear7i7g 753917.\n"
     ]
    }
   ],
   "source": [
    "string = str.maketrans(\"python\",\"753917\")\n",
    "text = \"i am learning python.\"\n",
    "result = text.translate(string)\n",
    "print(result)"
   ]
  },
  {
   "cell_type": "markdown",
   "id": "96bc0354-3cf4-4ab8-9966-11012698c80c",
   "metadata": {},
   "source": [
    "# str. count(sub,start,end)"
   ]
  },
  {
   "cell_type": "code",
   "execution_count": 68,
   "id": "6459b5f7-02a2-46a8-a6c2-b1cb0eaa9134",
   "metadata": {},
   "outputs": [
    {
     "name": "stdout",
     "output_type": "stream",
     "text": [
      "4\n",
      "2\n"
     ]
    }
   ],
   "source": [
    "string = \"lakshya is a crazy guy\"\n",
    "print(string.count(\"a\"))\n",
    "print(string.count(\"s\",3,len(string)))"
   ]
  },
  {
   "cell_type": "markdown",
   "id": "386a2fec-06a3-47fa-b05a-f4768a41527d",
   "metadata": {},
   "source": [
    "# str.find(sub,start,end)"
   ]
  },
  {
   "cell_type": "code",
   "execution_count": 71,
   "id": "10973d9f-c694-4cf8-8800-532f5e28643d",
   "metadata": {},
   "outputs": [
    {
     "name": "stdout",
     "output_type": "stream",
     "text": [
      "3\n",
      "8\n",
      "-1\n",
      "17\n"
     ]
    }
   ],
   "source": [
    "string = \"shubham leave in mandoli\"\n",
    "print(string.find(\"b\"))\n",
    "print(string.find(\"l\"))\n",
    "print(string.find(\"t\"))\n",
    "print(string.find(\"mandoli\"))"
   ]
  },
  {
   "cell_type": "markdown",
   "id": "cf2123d2-201e-417f-bdae-33d10db8e72c",
   "metadata": {},
   "source": [
    "# str. index(sub,start,end)"
   ]
  },
  {
   "cell_type": "code",
   "execution_count": 83,
   "id": "162cbcd4-ad8b-4a69-8d6c-d295fc0dfd2b",
   "metadata": {},
   "outputs": [
    {
     "name": "stdout",
     "output_type": "stream",
     "text": [
      "9\n"
     ]
    }
   ],
   "source": [
    "string = \"rohan is poor guy\"\n",
    "index = string.index('poor')\n",
    "print(index) "
   ]
  },
  {
   "cell_type": "markdown",
   "id": "c02eee29-85cb-4431-b5e7-b73335e4a243",
   "metadata": {},
   "source": [
    "# str. decimal()"
   ]
  },
  {
   "cell_type": "code",
   "execution_count": 84,
   "id": "c50e0e32-b87c-4336-abb8-690fd982ea47",
   "metadata": {},
   "outputs": [
    {
     "name": "stdout",
     "output_type": "stream",
     "text": [
      "True\n",
      "False\n",
      "False\n"
     ]
    }
   ],
   "source": [
    "string = \"783848\"\n",
    "string2 = \"736.43\"\n",
    "string3 = \"heya\"\n",
    "\n",
    "print(string.isdecimal())\n",
    "print(string2.isdecimal())\n",
    "print(string3.isdecimal())"
   ]
  },
  {
   "cell_type": "markdown",
   "id": "4cadbaa3-a662-46f3-99f0-6954c7b89c17",
   "metadata": {},
   "source": [
    "# str.casefold()"
   ]
  },
  {
   "cell_type": "code",
   "execution_count": 88,
   "id": "caa0891c-6d0f-491e-8801-98cc0b21effa",
   "metadata": {},
   "outputs": [
    {
     "data": {
      "text/plain": [
       "'der fluss'"
      ]
     },
     "execution_count": 88,
     "metadata": {},
     "output_type": "execute_result"
    }
   ],
   "source": [
    "String = \"der Fluß\"\n",
    "String.casefold()\n"
   ]
  },
  {
   "cell_type": "markdown",
   "id": "c3191fab-ee59-4c26-bfa4-354e08ec15a8",
   "metadata": {},
   "source": [
    "# str.center(fillchar)"
   ]
  },
  {
   "cell_type": "code",
   "execution_count": 91,
   "id": "bd8d2bab-a9fb-45d1-bb60-6464da9edbd8",
   "metadata": {},
   "outputs": [
    {
     "name": "stdout",
     "output_type": "stream",
     "text": [
      "                                               896606                                               \n"
     ]
    }
   ],
   "source": [
    "string = \"896606\"\n",
    "print(string.center(100))"
   ]
  },
  {
   "cell_type": "markdown",
   "id": "4632cbfb-45d9-4a32-a181-640d7e5f60d6",
   "metadata": {},
   "source": [
    "# str. expandtabe()"
   ]
  },
  {
   "cell_type": "code",
   "execution_count": 98,
   "id": "49a417c3-8cc2-4ca4-9633-f7c580ea2006",
   "metadata": {},
   "outputs": [
    {
     "name": "stdout",
     "output_type": "stream",
     "text": [
      "Python  is      awesome\n",
      "Python      is    awesome\n"
     ]
    }
   ],
   "source": [
    "text = \"Python\\tis\\tawesome\"\n",
    "print(text.expandtabs())           \n",
    "print(text.expandtabs(tabsize=6))  "
   ]
  },
  {
   "cell_type": "markdown",
   "id": "93ec624e-3406-4bbb-8425-0d4d8306a9f0",
   "metadata": {},
   "source": [
    "# str. encode()"
   ]
  },
  {
   "cell_type": "code",
   "execution_count": 99,
   "id": "2a85f239-e0dc-4a9d-8eb5-4e2f3153e273",
   "metadata": {},
   "outputs": [
    {
     "name": "stdout",
     "output_type": "stream",
     "text": [
      "b'Caf\\xc3\\xa9'\n"
     ]
    }
   ],
   "source": [
    "text = \"Café\"\n",
    "encoded = text.encode()  \n",
    "print(encoded)           "
   ]
  },
  {
   "cell_type": "markdown",
   "id": "da80f06c-a987-4176-ae43-c5916ce2cb07",
   "metadata": {},
   "source": [
    "# str. format()"
   ]
  },
  {
   "cell_type": "code",
   "execution_count": 102,
   "id": "810a96e6-cc0e-4849-b636-bdecb4e95e9d",
   "metadata": {},
   "outputs": [
    {
     "name": "stdout",
     "output_type": "stream",
     "text": [
      "my name is mansi and I am 21 years old.\n"
     ]
    }
   ],
   "source": [
    "name = \"mansi\"\n",
    "age = 21\n",
    "result = \"my name is {} and I am {} years old.\".format(name, age)\n",
    "print(result)"
   ]
  },
  {
   "cell_type": "markdown",
   "id": "327ae7f0-7307-41c1-82ad-ebe5b6569ecd",
   "metadata": {},
   "source": [
    "# str. format_map()"
   ]
  },
  {
   "cell_type": "code",
   "execution_count": 104,
   "id": "e7006108-9bc6-45c3-8280-88f2bd334e27",
   "metadata": {},
   "outputs": [
    {
     "name": "stdout",
     "output_type": "stream",
     "text": [
      "Name: tushar, Age: 22\n"
     ]
    }
   ],
   "source": [
    "data = {'name': 'tushar', 'age': 22}\n",
    "message = \"Name: {name}, Age: {age}\".format_map(data)\n",
    "print(message)"
   ]
  },
  {
   "cell_type": "markdown",
   "id": "7ce63673-f084-4a6c-b2ef-78d05bca95b0",
   "metadata": {},
   "source": [
    "# str. isascii()"
   ]
  },
  {
   "cell_type": "code",
   "execution_count": 1,
   "id": "fd50f088-d90b-4482-a93f-50a17787a15a",
   "metadata": {},
   "outputs": [
    {
     "name": "stdout",
     "output_type": "stream",
     "text": [
      "True\n",
      "True\n",
      "False\n"
     ]
    }
   ],
   "source": [
    "print(\"Hello123\".isascii())          \n",
    "print(\"123!@#\".isascii())         \n",
    "print(\"Café\".isascii())           "
   ]
  },
  {
   "cell_type": "markdown",
   "id": "a26ec779-dbb1-4ce1-a87c-3fe3651ad7d4",
   "metadata": {},
   "source": [
    "# str. isidentifier()"
   ]
  },
  {
   "cell_type": "code",
   "execution_count": 2,
   "id": "0dcb2cb4-fab4-446d-860a-20cf289e89b2",
   "metadata": {},
   "outputs": [
    {
     "name": "stdout",
     "output_type": "stream",
     "text": [
      "True\n",
      "True\n",
      "False\n",
      "True\n",
      "False\n",
      "False\n"
     ]
    }
   ],
   "source": [
    "print(\"variable\".isidentifier())     \n",
    "print(\"_hidden\".isidentifier())      \n",
    "print(\"2nd_value\".isidentifier())    \n",
    "print(\"class\".isidentifier())        \n",
    "print(\"with space\".isidentifier())  \n",
    "print(\"name!\".isidentifier())       "
   ]
  },
  {
   "cell_type": "markdown",
   "id": "f393e363-ecd8-4073-9e97-51695b00b97f",
   "metadata": {},
   "source": [
    "# str. isspace()"
   ]
  },
  {
   "cell_type": "code",
   "execution_count": 3,
   "id": "01296cb3-7bb0-47e7-91bc-e276efdbe6e1",
   "metadata": {},
   "outputs": [
    {
     "name": "stdout",
     "output_type": "stream",
     "text": [
      "True\n",
      "True\n",
      "False\n",
      "False\n"
     ]
    }
   ],
   "source": [
    "print(\"   \".isspace())      \n",
    "print(\"\\n\\t\".isspace())     \n",
    "print(\" a \".isspace())      \n",
    "print(\"\".isspace())         "
   ]
  },
  {
   "cell_type": "markdown",
   "id": "dfef0626-a21a-4f82-bbe8-57e6f128dc03",
   "metadata": {},
   "source": [
    "# str. istitle()"
   ]
  },
  {
   "cell_type": "code",
   "execution_count": 4,
   "id": "528bd853-1dd6-4ab0-a5fd-5f330fad60b9",
   "metadata": {},
   "outputs": [
    {
     "name": "stdout",
     "output_type": "stream",
     "text": [
      "True\n",
      "False\n",
      "True\n",
      "False\n",
      "True\n",
      "False\n"
     ]
    }
   ],
   "source": [
    "print(\"Hello World\".istitle())     \n",
    "print(\"Hello world\".istitle())     \n",
    "print(\"This Is A Test\".istitle())  \n",
    "print(\"This is a Test\".istitle())  \n",
    "print(\"123 Hello\".istitle())      \n",
    "print(\"\".istitle())                "
   ]
  },
  {
   "cell_type": "markdown",
   "id": "3aff78d7-c2fd-417b-acc3-50e44c889027",
   "metadata": {},
   "source": [
    "# str. isupper()"
   ]
  },
  {
   "cell_type": "code",
   "execution_count": 5,
   "id": "37e951e6-21e9-424d-be8c-e246de4a3440",
   "metadata": {},
   "outputs": [
    {
     "name": "stdout",
     "output_type": "stream",
     "text": [
      "True\n",
      "True\n",
      "True\n",
      "False\n",
      "False\n",
      "False\n"
     ]
    }
   ],
   "source": [
    "print(\"HELLO\".isupper())       \n",
    "print(\"HELLO123\".isupper())    \n",
    "print(\"HELLO!\".isupper())    \n",
    "print(\"Hello\".isupper())      \n",
    "print(\"123\".isupper())         \n",
    "print(\"\".isupper())          "
   ]
  },
  {
   "cell_type": "markdown",
   "id": "fb596e04-ecc7-47d4-b0f1-471afd6bce6c",
   "metadata": {},
   "source": [
    "# str. ljust()"
   ]
  },
  {
   "cell_type": "code",
   "execution_count": 10,
   "id": "adb369f7-0767-4293-9f42-f0eae63ef197",
   "metadata": {},
   "outputs": [
    {
     "name": "stdout",
     "output_type": "stream",
     "text": [
      "cat   \n",
      "cat---\n",
      "hello.....\n",
      "tool\n",
      "tool\n"
     ]
    }
   ],
   "source": [
    "print(\"cat\".ljust(6))           \n",
    "print(\"cat\".ljust(6, '-'))        \n",
    "print(\"hello\".ljust(10, '.'))     \n",
    "print(\"tool\".ljust(4,))            \n",
    "print(\"tool\".ljust(2))           "
   ]
  },
  {
   "cell_type": "markdown",
   "id": "49d5981a-9967-4d2c-afc5-029a1fa64233",
   "metadata": {},
   "source": [
    "# str. istrip()"
   ]
  },
  {
   "cell_type": "code",
   "execution_count": 11,
   "id": "c46d2548-6a23-402e-97f8-55f4d2c0b130",
   "metadata": {},
   "outputs": [
    {
     "name": "stdout",
     "output_type": "stream",
     "text": [
      "hello\n",
      "hello\n",
      "hello\n",
      "hello\n"
     ]
    }
   ],
   "source": [
    "print(\"  hello  \".strip())           \n",
    "print(\"\\nhello\\t\".strip())           \n",
    "print(\"...hello...\".strip(\".\"))      \n",
    "print(\"xyzhelloxy\".strip(\"xyz\"))     "
   ]
  },
  {
   "cell_type": "markdown",
   "id": "e759ca2f-82b5-4a9c-8628-ffa7c66bb9eb",
   "metadata": {},
   "source": [
    "# str. partition()"
   ]
  },
  {
   "cell_type": "code",
   "execution_count": 12,
   "id": "f56825dd-3fd0-4708-893a-599da91e4f7f",
   "metadata": {},
   "outputs": [
    {
     "name": "stdout",
     "output_type": "stream",
     "text": [
      "('apple', '#', 'banana#cherry')\n",
      "('one', ' ', 'two three')\n",
      "('nosplit', '', '')\n"
     ]
    }
   ],
   "source": [
    "print(\"apple#banana#cherry\".partition(\"#\"))\n",
    "print(\"one two three\".partition(\" \"))\n",
    "print(\"nosplit\".partition(\":\"))"
   ]
  },
  {
   "cell_type": "markdown",
   "id": "21d5daa4-36a4-4b72-a020-6d46ac54bd68",
   "metadata": {},
   "source": [
    "# str. removeprefix()"
   ]
  },
  {
   "cell_type": "code",
   "execution_count": 13,
   "id": "c85ec024-f0d6-4e05-a25e-f3ea68c5635b",
   "metadata": {},
   "outputs": [
    {
     "name": "stdout",
     "output_type": "stream",
     "text": [
      "happy\n",
      "test\n",
      "testcase\n",
      "bar\n"
     ]
    }
   ],
   "source": [
    "print(\"unhappy\".removeprefix(\"un\"))    \n",
    "print(\"pretest\".removeprefix(\"pre\"))    \n",
    "print(\"testcase\".removeprefix(\"pre\"))   \n",
    "print(\"foo_bar\".removeprefix(\"foo_\"))  "
   ]
  },
  {
   "cell_type": "markdown",
   "id": "9cd0b993-de68-47e7-ae36-f882ac1cffcf",
   "metadata": {},
   "source": [
    "# str. removesuffix()"
   ]
  },
  {
   "cell_type": "code",
   "execution_count": 14,
   "id": "0c852dc2-e951-4f58-862c-f3f33eb9da48",
   "metadata": {},
   "outputs": [
    {
     "name": "stdout",
     "output_type": "stream",
     "text": [
      "filename\n",
      "report\n",
      "image.jpeg\n",
      "testcase\n"
     ]
    }
   ],
   "source": [
    "print(\"filename.txt\".removesuffix(\".txt\"))    \n",
    "print(\"report_final\".removesuffix(\"_final\"))  \n",
    "print(\"image.jpeg\".removesuffix(\".png\"))       \n",
    "print(\"testcase\".removesuffix(\"\"))             "
   ]
  },
  {
   "cell_type": "markdown",
   "id": "6d17bc3b-7dbd-466a-93e4-0cbbbf085709",
   "metadata": {},
   "source": [
    "# replace()"
   ]
  },
  {
   "cell_type": "code",
   "execution_count": 15,
   "id": "b08b2e71-013e-44bc-8e62-995e28b18598",
   "metadata": {},
   "outputs": [
    {
     "name": "stdout",
     "output_type": "stream",
     "text": [
      "hi world, hi!\n",
      "hi world, hello!\n",
      "hell0 w0rld, hell0!\n"
     ]
    }
   ],
   "source": [
    "text = \"hello world, hello!\"\n",
    "print(text.replace(\"hello\", \"hi\"))\n",
    "print(text.replace(\"hello\", \"hi\", 1))\n",
    "print(text.replace(\"o\", \"0\"))"
   ]
  },
  {
   "cell_type": "markdown",
   "id": "3df779a7-bcaa-437d-a036-1f18247a491d",
   "metadata": {},
   "source": [
    "# str. rfind()"
   ]
  },
  {
   "cell_type": "code",
   "execution_count": 16,
   "id": "c9788ba4-b3ba-4a8e-8d89-df7c0053cad5",
   "metadata": {},
   "outputs": [
    {
     "name": "stdout",
     "output_type": "stream",
     "text": [
      "13\n",
      "17\n",
      "-1\n",
      "0\n"
     ]
    }
   ],
   "source": [
    "text = \"hello world, hello!\"\n",
    "print(text.rfind(\"hello\"))       \n",
    "print(text.rfind(\"o\"))            \n",
    "print(text.rfind(\"python\"))      \n",
    "print(text.rfind(\"hello\", 0, 10)) "
   ]
  },
  {
   "cell_type": "markdown",
   "id": "354f3ae3-ddfc-4410-bf89-5d9adde277d7",
   "metadata": {},
   "source": [
    "# str. rindex()"
   ]
  },
  {
   "cell_type": "code",
   "execution_count": 17,
   "id": "745a3fa7-9a33-4602-8035-bbdd5122844a",
   "metadata": {},
   "outputs": [
    {
     "name": "stdout",
     "output_type": "stream",
     "text": [
      "9\n",
      "18\n",
      "6\n"
     ]
    }
   ],
   "source": [
    "text = \"ritik is rude person \"\n",
    "print(text.rindex(\"rude\"))     \n",
    "print(text.rindex(\"o\"))         \n",
    "print(text.rindex(\"i\", 0, 10))  "
   ]
  },
  {
   "cell_type": "markdown",
   "id": "a902f69b-0e97-4a02-9f28-8b30ac3902f6",
   "metadata": {},
   "source": [
    "# str. rjust()"
   ]
  },
  {
   "cell_type": "code",
   "execution_count": 19,
   "id": "b8318c27-fc13-4dbb-8c9c-025d3ffe822d",
   "metadata": {},
   "outputs": [
    {
     "name": "stdout",
     "output_type": "stream",
     "text": [
      "   cat\n",
      "---cat\n",
      ".....hello\n",
      "tool\n"
     ]
    }
   ],
   "source": [
    "print(\"cat\".rjust(6))        \n",
    "print(\"cat\".rjust(6, '-'))     \n",
    "print(\"hello\".rjust(10, '.'))  \n",
    "print(\"tool\".rjust(4))                    "
   ]
  },
  {
   "cell_type": "markdown",
   "id": "eeb251e2-0f24-4939-b9c5-142f4ebbcad9",
   "metadata": {},
   "source": [
    "# str. rsplit()"
   ]
  },
  {
   "cell_type": "code",
   "execution_count": 20,
   "id": "ef6a4155-2bab-4160-865e-7fa76ab49a93",
   "metadata": {},
   "outputs": [
    {
     "name": "stdout",
     "output_type": "stream",
     "text": [
      "['apple', 'banana', 'cherry']\n",
      "['apple,banana', 'cherry']\n",
      "['one', 'two', 'three']\n",
      "['a b', 'c']\n"
     ]
    }
   ],
   "source": [
    "text = \"apple,banana,cherry\"\n",
    "print(text.rsplit(\",\"))          \n",
    "print(text.rsplit(\",\", 1))       \n",
    "print(\"one two three\".rsplit())  \n",
    "print(\"a b  c\".rsplit(None, 1))  "
   ]
  },
  {
   "cell_type": "markdown",
   "id": "f2a01e32-6f11-48a7-ac79-e424c9a10402",
   "metadata": {},
   "source": [
    "# str. rstrip()"
   ]
  },
  {
   "cell_type": "code",
   "execution_count": 21,
   "id": "d1b8e789-7752-4e09-9f6c-853dda07da16",
   "metadata": {},
   "outputs": [
    {
     "name": "stdout",
     "output_type": "stream",
     "text": [
      "hello\n",
      "hello\n",
      "test\n",
      "banana\n",
      "abc\n"
     ]
    }
   ],
   "source": [
    "print(\"hello   \".rstrip())         \n",
    "print(\"hello\\n\\n\".rstrip())       \n",
    "print(\"testxxx\".rstrip(\"x\"))     \n",
    "print(\"banana...\".rstrip(\".\"))   \n",
    "print(\"abcxyz\".rstrip(\"xyz\"))     "
   ]
  },
  {
   "cell_type": "markdown",
   "id": "844234c9-c11a-470c-b358-f3aa628f957d",
   "metadata": {},
   "source": [
    "# str. splitlines()"
   ]
  },
  {
   "cell_type": "code",
   "execution_count": 22,
   "id": "68626f8b-1cba-4860-bfa2-102a1983f8b1",
   "metadata": {},
   "outputs": [
    {
     "name": "stdout",
     "output_type": "stream",
     "text": [
      "['Line 1', 'Line 2', 'Line 3', 'Line 4']\n",
      "['Line 1\\n', 'Line 2\\r\\n', 'Line 3\\r', 'Line 4']\n"
     ]
    }
   ],
   "source": [
    "text = \"Line 1\\nLine 2\\r\\nLine 3\\rLine 4\"\n",
    "print(text.splitlines())\n",
    "print(text.splitlines(keepends=True))"
   ]
  },
  {
   "cell_type": "markdown",
   "id": "ca66932e-33e8-40e1-8824-0fdf892b53c4",
   "metadata": {},
   "source": [
    "# str. title()"
   ]
  },
  {
   "cell_type": "code",
   "execution_count": 23,
   "id": "b6eabae8-2711-49a5-b866-4d8e9b2866a2",
   "metadata": {},
   "outputs": [
    {
     "name": "stdout",
     "output_type": "stream",
     "text": [
      "Hello World\n",
      "123 Hello\n",
      "My-Name_Is Here\n",
      "Hello World\n"
     ]
    }
   ],
   "source": [
    "print(\"hello world\".title())           \n",
    "print(\"123 hello\".title())              \n",
    "print(\"my-name_is here\".title())        \n",
    "print(\"hELLO wORLD\".title())            "
   ]
  },
  {
   "cell_type": "markdown",
   "id": "f654dcdf-8a63-4f0a-85c0-ed13a995fdce",
   "metadata": {},
   "source": [
    "# str. translate()"
   ]
  },
  {
   "cell_type": "code",
   "execution_count": 24,
   "id": "fe6321d3-01c1-4738-be2c-1673c1f8b05f",
   "metadata": {},
   "outputs": [
    {
     "name": "stdout",
     "output_type": "stream",
     "text": [
      "123 123\n",
      "helloworld\n",
      "Data_science\n"
     ]
    }
   ],
   "source": [
    "text = \"abc abc\"\n",
    "table = str.maketrans(\"abc\", \"123\")\n",
    "print(text.translate(table))    \n",
    "\n",
    "text = \"hello world!\"\n",
    "table = str.maketrans(\"\", \"\", \" !\")  \n",
    "print(text.translate(table))    \n",
    "\n",
    "text = \"data science!\"\n",
    "table = str.maketrans({\"d\": \"D\", \" \": \"_\", \"!\": None})\n",
    "print(text.translate(table))     "
   ]
  },
  {
   "cell_type": "code",
   "execution_count": null,
   "id": "bd45e476-e29c-4dc6-a40a-edbf6c08dfdd",
   "metadata": {},
   "outputs": [],
   "source": []
  }
 ],
 "metadata": {
  "kernelspec": {
   "display_name": "Python [conda env:base] *",
   "language": "python",
   "name": "conda-base-py"
  },
  "language_info": {
   "codemirror_mode": {
    "name": "ipython",
    "version": 3
   },
   "file_extension": ".py",
   "mimetype": "text/x-python",
   "name": "python",
   "nbconvert_exporter": "python",
   "pygments_lexer": "ipython3",
   "version": "3.13.5"
  }
 },
 "nbformat": 4,
 "nbformat_minor": 5
}
